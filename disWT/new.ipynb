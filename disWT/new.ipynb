{
 "cells": [
  {
   "cell_type": "code",
   "execution_count": null,
   "metadata": {},
   "outputs": [],
   "source": [
    "import pywt\n",
    "import matplotlib.pyplot as plt\n",
    "import matplotlib.image as mpimage\n",
    "import glob\n",
    "import os\n",
    "import numpy as np\n",
    "\n",
    "parent_dir = '/mnt/d/Documents/Research/disWT/T1fusion_out/'\n",
    "\n",
    "'''Counting total number of subdirectories in T1fusion'''\n",
    "totaldirs, totalfiles = 0, 0\n",
    "for root, dirs, files in os.walk('/mnt/d/Documents/Research/disWT/T1fusion/', topdown=True):\n",
    "    for dir in dirs:\n",
    "        totaldirs += 1\n",
    "\n",
    "for k in range(totaldirs):\n",
    "\n",
    "    imgs = [mpimage.imread(file) for file in glob.glob('T1fusion/{}/*.png'.format(k+1))] #Reading all the images in a particular subdirectory, say, 1 in T1fusion\n",
    "    \n",
    "    img_folder = '{}'.format(k+1) + '_out/' # Creating path for output image folder\n",
    "\n",
    "    \n",
    "    for i, img in enumerate(imgs):\n",
    "\n",
    "        sub_directory = '{}_{}'.format(k+1, i+1) + '_out/'\n",
    "        np_img = np.array(img)\n",
    "        coeffs2 = pywt.dwt2(np_img, 'db3')\n",
    "        LL, (LH, HL, HH) = coeffs2\n",
    "        \n",
    "        \n",
    "        new_path = os.path.join(parent_dir, img_folder, sub_directory)\n",
    "        os.makedirs(new_path)\n",
    "        for j, a in enumerate([LL, LH, HL, HH]):\n",
    "            plt.figure(figsize=(1, 1), dpi=256)\n",
    "            \n",
    "            plt.imshow(a, interpolation='nearest', cmap=plt.cm.gray)\n",
    "            plt.axis('off')\n",
    "            plt.tight_layout(pad=0)\n",
    "            plt.savefig(new_path +'{}_{}_{}'.format(k+1, i+1, j+1)  +'.png')\n",
    "            \n",
    "            plt.show()"
   ]
  }
 ],
 "metadata": {
  "interpreter": {
   "hash": "47f5d56a57c9fe1a864c9088028f92f0c4664d193fd5ae590a8d2ad9c8f2a6b4"
  },
  "kernelspec": {
   "display_name": "Python 3.8.10 64-bit ('Research': venv)",
   "language": "python",
   "name": "python3"
  },
  "language_info": {
   "codemirror_mode": {
    "name": "ipython",
    "version": 3
   },
   "file_extension": ".py",
   "mimetype": "text/x-python",
   "name": "python",
   "nbconvert_exporter": "python",
   "pygments_lexer": "ipython3",
   "version": "3.8.10"
  },
  "orig_nbformat": 4
 },
 "nbformat": 4,
 "nbformat_minor": 2
}
